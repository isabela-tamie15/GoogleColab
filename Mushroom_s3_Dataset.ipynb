{
  "nbformat": 4,
  "nbformat_minor": 0,
  "metadata": {
    "colab": {
      "provenance": [],
      "gpuType": "V28",
      "include_colab_link": true
    },
    "kernelspec": {
      "name": "python3",
      "display_name": "Python 3"
    },
    "language_info": {
      "name": "python"
    },
    "accelerator": "TPU"
  },
  "cells": [
    {
      "cell_type": "markdown",
      "metadata": {
        "id": "view-in-github",
        "colab_type": "text"
      },
      "source": [
        "<a href=\"https://colab.research.google.com/github/isabela-tamie15/GoogleColab/blob/main/Mushroom_s3_Dataset.ipynb\" target=\"_parent\"><img src=\"https://colab.research.google.com/assets/colab-badge.svg\" alt=\"Open In Colab\"/></a>"
      ]
    },
    {
      "cell_type": "markdown",
      "source": [
        "**GRUPO 3**\n",
        "\n",
        "Membros:\n",
        "* Isabela Tamie Shihara - RGM: 11231203887\n",
        "\n",
        "* Luisa Alves de Souza - RGM: 11251401903\n",
        "\n",
        "* Matheus Martins de Souza - RGM: 11251401900\n",
        "\n",
        "* Samuel Oliveira Acácio - RGM: 11231100856\n",
        "\n",
        "Curso: Engenharia de Software\n",
        "\n",
        "Turma: 6º A Matutino\n",
        "\n",
        "Disciplina: Inteligência Artificial\n",
        "\n",
        "Prof. Dr. Fabiano Menegidio"
      ],
      "metadata": {
        "id": "qPqIwCUhyqAG"
      }
    },
    {
      "cell_type": "markdown",
      "source": [
        "# 🍄 Classificação de Cogumelos – Cenário S3 (Gill-size) usando SVM"
      ],
      "metadata": {
        "id": "rmUbmIfHyR0e"
      }
    },
    {
      "cell_type": "markdown",
      "source": [
        "## Objetivo Geral:\n",
        "Este notebook tem como objetivo avaliar se a morfologia e tamanho das lamelas pode ser usada para classificar cogumelos comestíveis (e) ou venenosos (p).\n",
        "\n",
        "Para isso, foi utilizado o **Dataset:** Mushroom analisando o atributo Gill-size (Cenário S3).\n",
        "\n",
        "Também foram necessárias as **Bibliotecas:** scikit-learn (SVC, cross_val_score, GridSearchCV, métricas), pandas, numpy, matplotlib."
      ],
      "metadata": {
        "id": "qRFotJyXIYNJ"
      }
    },
    {
      "cell_type": "markdown",
      "source": [
        "## Contexto do Cenário:\n",
        " 🍄 O dataset **Mushroom** contém 8.124 cogumelos classificados como **comestíveis (e)** ou **venenosos (p)**, descritos por 22 atributos morfológicos e ambientais.\n",
        " No **cenário S3 – Gill-size**, o foco é o atributo **gill-size**, que representa o tamanho das lamelas (estruturas abaixo do chapéu do cogumelo responsáveis pela produção e dispersão de esporos).\n",
        "\n",
        " Valores possíveis:\n",
        "- **broad** → lamelas largas\n",
        "- **narrow** → lamelas estreitas\n",
        "\n",
        "Neste cenário, cada cogumelo é representado apenas pelo tamanho da lamela (via **One-Hot Encoding**) e pela coluna `class`.\n",
        "\n",
        "**Questão central:** será que o tamanho da lamela é suficiente para prever se um cogumelo é venenoso?\n",
        "\n",
        "Nesse notebook foi realizado o treino de um classificardor SVM nesse subconjunto e foram avaliadas as métricas como acurácia e matriz de confusão para a classe venenosa.\n",
        "\n",
        "Essa análise permitiu refletir sobre a importância de características morfológicas específicas e seus limites na predição da toxicidade.\n",
        "\n",
        "Utilizamos: GridSearchCV para buscar os melhores hiper-parâmetros (kernel, C e gamma), além de cross-validation."
      ],
      "metadata": {
        "id": "7ZAhlk4exX3O"
      }
    },
    {
      "cell_type": "markdown",
      "source": [
        "## Objetivos Específicos:\n",
        "* Avaliar se essa característica morfológica isolada (lamelas) tem real poder preditivo.\n",
        "* Avaliar a eficácia da predição utilizando métricas de acurácia e matriz de confusão\n",
        "* Entender os limites da predição desses atributos específicos.\n",
        "\n"
      ],
      "metadata": {
        "id": "ALdWwWN7yiho"
      }
    },
    {
      "cell_type": "markdown",
      "source": [
        "## Explicação da Estrutura do Modelo:\n"
      ],
      "metadata": {
        "id": "HRSGqbgmlW1r"
      }
    },
    {
      "cell_type": "markdown",
      "source": [
        "**1 - Atributos e Variáveis:**\n",
        "\n",
        "df: Variável que armazena o dataset CSV em formato de tabela (dataframe)\n",
        "\n",
        "y: Variável que armazena a coluna alvo, orde será feita a previsão.\n",
        "\n",
        "cv: Variável que define o método de Validação Cruzada, dividindo em 5 grupos.\n",
        "\n",
        "x: Variável que armazena as informações para treinar o modelo, onde todas as colunas menos a class contém as características do cogumelo.\n",
        "\n",
        "x_train: Variável que armazena a parte para treinar o modelo 80%.\n",
        "\n",
        "x_Test: Variável que armazena  a parte para testar o modelo 20%.\n",
        "\n",
        "y_train: Variável que armazena a parte de y para treinar o modelo.\n",
        "\n",
        "y_test: Variável que armazena  a parte do modelo\n",
        "\n",
        "test_size=0.2 : Variável que define o treino/teste (80%/20%).\n",
        "\n",
        "model: Variável que armazena o modelo SVM, sendo linear ou RBF, dependendo do kernel.\n",
        "\n",
        "y_pred: Variável que armazena as previsões do modelo sobre os dados de teste (x_test).\n",
        "\n",
        "acc: Variável que armazena a acurácia do modelo  usando y_test e y_pred, mostrando os erros e acertos do modelo. ConfuisionMatrixDisplay.\n",
        "\n",
        "from_predictions: Função que gera a Matriz de Confusão, usando os valores de y_test e preditos y_pred, para visualizar os erros e acertos do modelo.\n",
        "\n",
        "gs: Variável que armazena o GridSearchCV, que realiza a busca automática dos melhoreshiperparâmetros com Validação Cruzada.\n",
        "\n",
        "param_grid: Parâmetro que define a grade de valores em todas as combinações possíveis e escolhendo a melhor.\n"
      ],
      "metadata": {
        "id": "hjpK8uvTld9C"
      }
    },
    {
      "cell_type": "markdown",
      "source": [
        "**2  - Sequência Lógica do Código:**\n",
        "\n",
        "Carregar e visualizar o Dataset Mushroom Gill-size.\n",
        "\n",
        "Dropar todas as colunas menos class no CSV.\n",
        "\n",
        "Coluna alvo (comestível/venenoso).\n",
        "\n",
        "Labels legíveis para a matriz de confusão.\n",
        "\n",
        "Divisão dos dados em treino e teste.\n",
        "\n",
        "Treinar o SVM com kernel linear e kernel RBF.\n",
        "\n",
        "Encontrar o melhor hiperparâmetro utilizando o método GridSearchCV (kernel, C e gamma).\n",
        "\n",
        "Avaliar o modelo final com acurácia e matriz de confusão.\n",
        "\n",
        "Aplicar Cross-Validation para validar estabilidade do modelo."
      ],
      "metadata": {
        "id": "t3VQ5pK7yeIY"
      }
    },
    {
      "cell_type": "markdown",
      "source": [
        "**3  - Resultados dos Testes:**\n",
        "  \n",
        "SVM Linear → Acurácia = ~77%\n",
        "\n",
        "SVM RBF → Acurácia = ~77%\n",
        "\n",
        "**Busca de hiperparâmetros (GridSearchCV):**\n",
        "   \n",
        "Kernels Testados: linear, rbf, poly, sigmoid\n",
        "\n",
        "Valores de C: 0.1, 1, 10\n",
        "\n",
        "Valores de gamma: scale, 0.01, 0.1, 1\n",
        "\n",
        "Melhor combinação: kernel=linear, C=0.1, gamma=scale\n",
        "\n",
        "**Acurácia final = ~77%**\n",
        "\n",
        "Validação cruzada (Cross-validation): mostrou resultados muito próximos em todas as combinações, indicando que o atributo sozinho não traz muita variação de desempenho.\n",
        "\n",
        "Matriz de confusão: mostrou acertos, mas também erros em classificar venenosos como comestíveis (o que é arriscado)."
      ],
      "metadata": {
        "id": "WR0H-NFDm0Wz"
      }
    },
    {
      "cell_type": "markdown",
      "source": [
        "## Estrutura do Código com Comentários"
      ],
      "metadata": {
        "id": "ZCY1FodPtQMd"
      }
    },
    {
      "cell_type": "code",
      "execution_count": null,
      "metadata": {
        "id": "U9AihQM_k_t1"
      },
      "outputs": [],
      "source": [
        "# 0) Importação de Bibliotecas e Configuração Global do Modelo\n",
        "from sklearn import datasets\n",
        "from sklearn.model_selection import train_test_split, StratifiedKFold, cross_val_score, GridSearchCV\n",
        "from sklearn.svm import SVC\n",
        "from sklearn.metrics import accuracy_score, ConfusionMatrixDisplay\n",
        "import pandas as pd\n",
        "import numpy as np\n",
        "import matplotlib.pyplot as plt\n",
        "\n",
        "RANDOM_STATE = 42\n",
        "cv = StratifiedKFold(n_splits=5, shuffle=True, random_state=RANDOM_STATE)"
      ]
    },
    {
      "cell_type": "markdown",
      "source": [
        "## Resumo\n",
        "\n",
        "Este código foi criado para treinar um modelo, que separa cogumelos comestíveis dos venenosos, usando apenas o tamanho da lamela. Para isso, os dados foram divididos em treino e teste, garantindo que o modelo tivesse exemplos suficientes para aprender, e depois fosse avaliado de forma justa.\n",
        "\n",
        "O classificador usado foi o SVM, que cria uma fronteira para distinguir as classes. Duas versões foram testadas: a do kernel linear, mais simples, e a do kernel RBF, mais flexível. Para escolher os melhores parâmetros do modelo, foi utilizado o método **GridSearchCV**, que faz testes automáticos e aponta a combinação com maior acurácia.\n",
        "\n",
        "Além disso, foi aplicado o método Cross-Validation, que repete os testes em diferentes divisões do dataset, evitando que o resultado dependa apenas da sorte da separação inicial.\n",
        "\n",
        "Com isso, foi possível validar que o modelo realmente aprendeu a identificar o padrão nos dados, e está apto a fazer previsões confiáveis.\n",
        "\n",
        "# Considerações Finais\n",
        "\n",
        "Com base nos resultados obtidos, analisando o teste de Acurácia e Matriz de Confusão com Kernel Linear,  Kernel RBF, Poly e Sigmoid, observa-se uma **Acurácia Média**  de 77.35% na predição de Toxicidade do cogumelo usando como parâmetro as lamelas (estruturas abaixo do chapéu do cogumelo responsáveis pela produção e dispersão de esporos).\n",
        "Considerando que, na Biologia dos Fungos, a morfologia das lamelas pode estar associada à adaptação ecológica e ao modo de dispersão de esporos, nem sempre  sendo uma característica exclusiva de espécies comestíveis ou tóxicas. Ainda assim, o tamanho das lamelas pode oferecer algum poder de discriminação entre grupos de cogumelos, contudo, o tamanho das lamelas por si só não é um forte indicativo de sua toxicidade ou ausência dela (MENEGIDIO, Fabiano, Comunicação Pessoal, 2025).\n",
        "Por fim, é recomendada a análise de características adicionais para afirmar a toxicidade de cogumelos."
      ],
      "metadata": {
        "id": "raqf_NPIoFBi"
      }
    }
  ]
}