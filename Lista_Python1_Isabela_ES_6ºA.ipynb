{
  "nbformat": 4,
  "nbformat_minor": 0,
  "metadata": {
    "colab": {
      "provenance": [],
      "toc_visible": true,
      "authorship_tag": "ABX9TyMG+tswyoFMo90wBvpRfKSV",
      "include_colab_link": true
    },
    "kernelspec": {
      "name": "python3",
      "display_name": "Python 3"
    },
    "language_info": {
      "name": "python"
    }
  },
  "cells": [
    {
      "cell_type": "markdown",
      "metadata": {
        "id": "view-in-github",
        "colab_type": "text"
      },
      "source": [
        "<a href=\"https://colab.research.google.com/github/isabela-tamie15/CurriculoTamie2024/blob/main/Lista_Python1_Isabela_ES_6%C2%BAA.ipynb\" target=\"_parent\"><img src=\"https://colab.research.google.com/assets/colab-badge.svg\" alt=\"Open In Colab\"/></a>"
      ]
    },
    {
      "cell_type": "markdown",
      "source": [
        "Nome: Isabela Tamie Shihara    \n",
        "RGM: 11231203887\n",
        "\n",
        "Curso: Engenharia de Software  \n",
        "Turma: 6ºA\n",
        "\n",
        "Disciplina: Inteligência Artificial   \n",
        "Prof. Fabiano Menegidio"
      ],
      "metadata": {
        "id": "-XocBEV7206P"
      }
    },
    {
      "cell_type": "markdown",
      "source": [
        "# Lista de Exercícios Python 1"
      ],
      "metadata": {
        "id": "AKlJBRDD7SuZ"
      }
    },
    {
      "cell_type": "markdown",
      "source": [
        "## 1. Calculadora de Médias\n",
        "\n",
        "**Enunciado**\n",
        "\n",
        "Crie um programa que calcule a média aritmética de uma lista de\n",
        "números fornecida pelo usuário. O programa deve permitir que o usuário insira\n",
        "quantos números desejar e, ao final, exibir a média dos números inseridos."
      ],
      "metadata": {
        "id": "eDFoxl6R6bDK"
      }
    },
    {
      "cell_type": "code",
      "execution_count": null,
      "metadata": {
        "colab": {
          "base_uri": "https://localhost:8080/"
        },
        "id": "BSS8FD4h3M2M",
        "outputId": "167e2c38-5be4-4a04-b85e-ca0d122a530e"
      },
      "outputs": [
        {
          "output_type": "stream",
          "name": "stdout",
          "text": [
            "Digite um número: 3\n",
            "Quer adicionar outro número? (s/n): S\n",
            "Digite um número: 5\n",
            "Quer adicionar outro número? (s/n): N\n",
            "A média aritmética dos números é: 4.0\n"
          ]
        }
      ],
      "source": [
        "# Comentário Código\n",
        "\"\"\"\n",
        "append() é um método para adicionar números a uma lista. Ele só adiciona se a lista existir antes. Por isso, declare a lista vazia antes do método append.\n",
        "\n",
        "na variável numero, use float antes de input, para converter texto (string) para número decimal ou inteiro, negativo ou positivo (aceita tudo)\n",
        "\n",
        "a variável continuar começa com o valor \"sim\", mas a cada linha esse valor pode mudar. No fim do looping while, o valor pode mudar para \"não\" e encerrar o looping.\n",
        "\n",
        "lower() é um método para tornar o texto digitado todo em minúsculo. Exemplo: Sim ou SIM -> sim\n",
        "\n",
        "sum(lista_numeros) soma todos os elementos da lista\n",
        "len(lista_numeros) conta e retorna a quantidade de elementos da lista\n",
        "media = soma/quantidade é a fórmula da média aritmética\n",
        "\"\"\"\n",
        "\n",
        "#PASSO 1\n",
        "lista_numeros = [ ]\n",
        "\n",
        "#PASSO 2\n",
        "continuar = \"s\"\n",
        "while continuar ==\"s\":\n",
        "       numero = float(input(\"Digite um número: \"))\n",
        "       lista_numeros.append(numero)\n",
        "       continuar = input(\"Quer adicionar outro número? (s/n): \").lower()\n",
        "\n",
        "#PASSO 3\n",
        "soma = sum(lista_numeros)\n",
        "quantidade = len(lista_numeros)\n",
        "media = soma/quantidade\n",
        "\n",
        "#PASSO 4\n",
        "print(f\"A média aritmética dos números é: {media}\")"
      ]
    },
    {
      "cell_type": "markdown",
      "source": [
        "**Observações**\n",
        "\n",
        "O append() sempre adiciona no final da lista, mantendo a ordem dos números digitados.\n",
        "\n",
        "sum() e len() são funções pré-definidas do Python — muito úteis para listas de números.\n",
        "\n",
        "**Fluxo:**\n",
        "\n",
        "Pede número → adiciona na lista → pergunta se continua → repete até o usuário digitar \"não\" → calcula média → mostra resultado."
      ],
      "metadata": {
        "id": "CBDQTbbL7DeB"
      }
    },
    {
      "cell_type": "markdown",
      "source": [
        "## 2. Contador de Caracteres\n",
        "\n",
        "**Enunciado**\n",
        "\n",
        "Desenvolva um script que conte quantas vezes cada caractere\n",
        "aparece em uma string fornecida pelo usuário. O programa deve ignorar espaços e\n",
        "diferenciar maiúsculas de minúsculas."
      ],
      "metadata": {
        "id": "5jsOpisg8WmI"
      }
    },
    {
      "cell_type": "code",
      "source": [
        "#Explicando a Lógica\n",
        "\"\"\"\n",
        "#Entrada de Dados:\n",
        "Usamos input() para obter a string do usuário.\n",
        "\n",
        "Dicionário para Contagem:\n",
        "Criamos um dicionário vazio contagem_caracteres que vai armazenar cada caractere como chave e sua contagem como valor.\n",
        "\n",
        "Loop pelos Caracteres:\n",
        "Usamos um loop for para percorrer cada caractere na string.\n",
        "Dentro do loop, primeiro verificamos se o caractere é diferente de espaço (' ').\n",
        "\n",
        "Contagem:\n",
        "Se o caractere já existe no dicionário (if caractere in contagem_caracteres), incrementamos sua contagem em 1.\n",
        "Se não existe, adicionamos o caractere ao dicionário com valor inicial 1.\n",
        "\n",
        "Exibição dos Resultados:\n",
        "Após processar toda a string, usamos outro loop for para percorrer o dicionário e mostrar cada caractere com sua respectiva contagem.\n",
        "\"\"\"\n",
        "\n",
        "#PASSO 1: Solicita a string do usuário\n",
        "texto = input(\"Digite uma string: \")\n",
        "\n",
        "#PASSO 2: Dicionário para armazenar as contagens\n",
        "contagem_caracteres = {}\n",
        "\n",
        "#PASSO 3: Percorre cada caractere na string\n",
        "for caractere in texto:\n",
        "    # Ignora espaços\n",
        "    if caractere != ' ':\n",
        "        # Se o caractere já está no dicionário, incrementa a contagem\n",
        "        if caractere in contagem_caracteres:\n",
        "            contagem_caracteres[caractere] += 1\n",
        "        # Se não está, adiciona com contagem 1\n",
        "        else:\n",
        "            contagem_caracteres[caractere] = 1\n",
        "\n",
        "#PASSO 4: Exibe os resultados\n",
        "print(\"\\nContagem de caracteres:\")\n",
        "for caractere, quantidade in contagem_caracteres.items():\n",
        "    print(f\"'{caractere}': {quantidade}\")"
      ],
      "metadata": {
        "id": "VBx8dVJR8xrc",
        "colab": {
          "base_uri": "https://localhost:8080/"
        },
        "outputId": "7e8ea2ed-646d-4c67-fefd-e916a383a641"
      },
      "execution_count": null,
      "outputs": [
        {
          "output_type": "stream",
          "name": "stdout",
          "text": [
            "Digite uma string: BANanA\n",
            "\n",
            "Contagem de caracteres:\n",
            "'B': 1\n",
            "'A': 2\n",
            "'N': 1\n",
            "'a': 1\n",
            "'n': 1\n"
          ]
        }
      ]
    },
    {
      "cell_type": "markdown",
      "source": [
        "**Observações**\n",
        "\n",
        "**Diferença entre Dicionário (dict) e Lista (list)**\n",
        "\n",
        "* Lista (list)\n",
        "É uma coleção ordenada de elementos\n",
        "\n",
        "Acessamos os elementos por índices numéricos (posição)\n",
        "\n",
        "Sintaxe: usa colchetes [ ]\n",
        "\n",
        "**Exemplo**\n",
        "\n",
        "frutas = ['maçã', 'banana', 'laranja']\n",
        "\n",
        "print(frutas[0])  \n",
        "\n",
        "Saída: 'maçã' (primeiro elemento)\n",
        "\n",
        "* Dicionário (dict)\n",
        "É uma coleção não-ordenada de pares chave-valor\n",
        "\n",
        "Acessamos os valores por chaves (que podem ser strings, números, etc.)\n",
        "\n",
        "Sintaxe: usa chaves {} com pares chave: valor\n",
        "\n",
        "**Exemplo**\n",
        "\n",
        "estoque = {'maçã': 10, 'banana': 5, 'laranja': 8}\n",
        "\n",
        "print(estoque['banana'])  \n",
        "\n",
        "Saída: 5 (valor associado à chave 'banana')\n",
        "\n",
        "**Dicionário é mais adequado para contagem**\n",
        "\n",
        "* Pois é possível associar cada caractere (chave) com sua contagem (valor)\n",
        "\n",
        "* Permite verificar rapidamente se um caractere já tinha sido contado\n",
        "\n",
        "* E a estrutura chave-valor organiza os dados de forma intuitiva"
      ],
      "metadata": {
        "id": "PgFsS9uq8zRA"
      }
    },
    {
      "cell_type": "markdown",
      "source": [
        "## 3. Verificador de Palíndromo\n",
        "\n",
        "**Enunciado**\n",
        "\n",
        "Escreva um programa que verifique se uma palavra ou frase\n",
        "(ignorando espaços e pontuações) é um palíndromo, ou seja, se ela é igual\n",
        "quando lida de trás para frente."
      ],
      "metadata": {
        "id": "jKdIOf_x9FOK"
      }
    },
    {
      "cell_type": "code",
      "source": [
        "#PASSO 1: Receber a palavra/frase do usuário\n",
        "texto = input(\"Digite uma palavra ou frase: \")\n",
        "\n",
        "#PASSO 2: Tratar o texto (permitir apenas caracteres válidos)\n",
        "texto_tratado = ''\n",
        "for caractere in texto.lower():  # converter para minúsculas para facilitar a verificação de palíndromo (A ≠ a atrapalha)\n",
        "    if caractere.isalnum():  # só aceita caractere letra e número, remove espaços e pontuações\n",
        "        texto_tratado += caractere  # adiciona caractere ao texto tratado\n",
        "\n",
        "#PASSO 3: Verificar se é palíndromo\n",
        "# Comparar o texto tratado com sua versão invertida\n",
        "if texto_tratado == texto_tratado[::-1]: # O slicing [::-1] inverte sequências\n",
        "    print(\"É um palíndromo!\")\n",
        "else:\n",
        "    print(\"Não é um palíndromo.\")"
      ],
      "metadata": {
        "id": "aBGW3CBo9Rer",
        "colab": {
          "base_uri": "https://localhost:8080/"
        },
        "outputId": "4256e66b-0ce7-4ce9-cd2b-ad08d8f0c6f9"
      },
      "execution_count": null,
      "outputs": [
        {
          "output_type": "stream",
          "name": "stdout",
          "text": [
            "Digite uma palavra ou frase: ame a ema\n",
            "É um palíndromo!\n"
          ]
        }
      ]
    },
    {
      "cell_type": "markdown",
      "source": [
        "**Observações**\n",
        "\n",
        "Palíndromo é quando a palavra ou frase é igual quando lida de trá para frente.\n",
        "\n",
        "Palíndromos podem ser formados por sequências de números, de letras, e de números e letras.\n",
        "Exemplo: 121, 12321, arara, ame a ema, a1a, 3b3.\n",
        "\n",
        "**O método isaLnum()** retorna True para letras (a-z, A-Z) e números (0-9), excluindo Espaços, Pontuações e Caracteres Especiais.\n",
        "É um método essencial para identificar palíndromos.\n",
        "\n",
        "**Exemplo**\n",
        "Para a frase \"Eva, can I see 121 in a cave?\":\n",
        "isalnum() vai manter: \"EvacanIsee121inacave\"\n",
        "Excluiu vírgulas e espaços que atrapalham a verificação\n",
        "\n",
        "**o método lower()** converte tudo para minúsculas antes de comparar, (\"B\" e \"b\" são considerados a mesma letra), evitando erros na verificação do palíndromo.\n",
        "\n",
        "**Exemplos**\n",
        "com lower(): \"Ana\" → \"ana\" (palíndromo)\n",
        "sem lower(): \"Ovo\" → \"O\" ≠ \"o\" (não é palíndromo)\n",
        "\n",
        "Os métodos isalnum() e lower() juntos, criam um filtro eficaz para identificar palíndromos."
      ],
      "metadata": {
        "id": "gMmi8_ve9W0A"
      }
    },
    {
      "cell_type": "markdown",
      "source": [
        "## 4. Conversor de Temperatura\n",
        "\n",
        "**Enunciado**\n",
        "\n",
        "Crie um conversor que transforme temperaturas de Celsius para\n",
        "Fahrenheit e vice-versa. O programa deve permitir que o usuário escolha o tipo de\n",
        "conversão e insira a temperatura."
      ],
      "metadata": {
        "id": "RvEpKuN89hT6"
      }
    },
    {
      "cell_type": "code",
      "source": [
        "#PASSO 1: Pedir qual conversão o usuário quer fazer\n",
        "print(\"Escolha o tipo de conversão:\")\n",
        "print(\"1 - Celsius para Fahrenheit\")\n",
        "print(\"2 - Fahrenheit para Celsius\")\n",
        "opcao = input(\"Digite 1 ou 2: \")\n",
        "\n",
        "#PASSO 2: Pedir a temperatura a ser convertida\n",
        "temperatura = float(input(\"Digite a temperatura: \"))\n",
        "\n",
        "#PASSO 3: Fazer a conversão de acordo com a opção escolhida\n",
        "if opcao == \"1\":\n",
        "    # Converter Celsius para Fahrenheit\n",
        "    fahrenheit = (temperatura * 9/5) + 32\n",
        "    print(f\"{temperatura}°C equivalem a {fahrenheit}°F\")\n",
        "elif opcao == \"2\":\n",
        "    # Converter Fahrenheit para Celsius\n",
        "    celsius = (temperatura - 32) * 5/9\n",
        "    print(f\"{temperatura}°F equivalem a {celsius}°C\")\n",
        "else:\n",
        "    print(\"Opção inválida! Digite 1 ou 2.\")"
      ],
      "metadata": {
        "id": "oz2avySg9poe",
        "colab": {
          "base_uri": "https://localhost:8080/"
        },
        "outputId": "2429ecf9-6194-45ed-a1e2-d932c043cd5e"
      },
      "execution_count": null,
      "outputs": [
        {
          "output_type": "stream",
          "name": "stdout",
          "text": [
            "Escolha o tipo de conversão:\n",
            "1 - Celsius para Fahrenheit\n",
            "2 - Fahrenheit para Celsius\n",
            "Digite 1 ou 2: 1\n",
            "Digite a temperatura: 15\n",
            "15.0°C equivalem a 59.0°F\n"
          ]
        }
      ]
    },
    {
      "cell_type": "markdown",
      "source": [
        "**Observações**\n",
        "\n",
        "Ao receber a temperatura, use float antes do input, para converter string para número decimal, e permitir realizar cálculos matemáticos com o valor."
      ],
      "metadata": {
        "id": "MFxsId4X9qQb"
      }
    },
    {
      "cell_type": "markdown",
      "source": [
        "## 5. Gerador de Tabuada\n",
        "\n",
        "**Enunciado**\n",
        "\n",
        "Desenvolva um programa que gere a tabuada de um número\n",
        "fornecido pelo usuário. O programa deve exibir a multiplicação de 1 até 10 para o\n",
        "número informado."
      ],
      "metadata": {
        "id": "a_mtNW5I99_S"
      }
    },
    {
      "cell_type": "code",
      "source": [
        "#PASSO 1: Pedir o número ao usuário\n",
        "numero = int(input(\"Digite um número para ver sua tabuada: \"))\n",
        "\n",
        "#PASSO 2: Exibir o título da tabuada\n",
        "print(f\"\\nTabuada do {numero}:\")\n",
        "\n",
        "#PASSO 3: Gerar e mostrar a tabuada de 1 a 10\n",
        "for i in range(1, 11): # i é um ciclo de repetição. começa em 1 e vai até 10\n",
        "    resultado = numero * i # a cada ciclo, o i é incrementado em 1, até percorrer o intervalo de 1 a 10\n",
        "    print(f\"{numero} x {i} = {resultado}\")"
      ],
      "metadata": {
        "id": "_zhlKmeG9_U5",
        "colab": {
          "base_uri": "https://localhost:8080/"
        },
        "outputId": "1fedebee-1981-409e-a459-efa69c525acc"
      },
      "execution_count": null,
      "outputs": [
        {
          "output_type": "stream",
          "name": "stdout",
          "text": [
            "Digite um número para ver sua tabuada: 10\n",
            "\n",
            "Tabuada do 10:\n",
            "10 x 1 = 10\n",
            "10 x 2 = 20\n",
            "10 x 3 = 30\n",
            "10 x 4 = 40\n",
            "10 x 5 = 50\n",
            "10 x 6 = 60\n",
            "10 x 7 = 70\n",
            "10 x 8 = 80\n",
            "10 x 9 = 90\n",
            "10 x 10 = 100\n"
          ]
        }
      ]
    },
    {
      "cell_type": "markdown",
      "source": [
        "**Observações**\n",
        "\n",
        "Use int antes de input, para converter o valor string em valor numérico que permite cálculos.\n",
        "\n",
        "A estrutura format abaixo, permite incluir variáveis dentro do texto com { }.\n",
        "* print(f\"{numero} x {i} = {resultado}\")\n",
        "\n",
        "range(1, 11): Cria uma sequência de 1 até 10\n",
        "O 11 não é incluído, por isso paramos no 10\n",
        "\n",
        "for i in...: Para cada número nessa sequência:\n",
        "* Calcula numero * i e armazena em resultado\n",
        "* Mostra a operação e o resultado formatado\n",
        "\n"
      ],
      "metadata": {
        "id": "tkDIvv_H9_vd"
      }
    },
    {
      "cell_type": "markdown",
      "source": [
        "## 6. Simulador de Lançamento de Dados\n",
        "\n",
        "**Enunciado**\n",
        "\n",
        "Escreva um script que simule o lançamento de um dado de 6 faces. O\n",
        "programa deve solicitar ao usuário quantas vezes ele deseja lançar o dado e\n",
        "mostrar os resultados de cada lançamento."
      ],
      "metadata": {
        "id": "zRGLyMht-JFk"
      }
    },
    {
      "cell_type": "code",
      "source": [
        "#PASSO 1: Ativa as funções de geração de números aleatórios\n",
        "import random\n",
        "\n",
        "#PASSO 2: Armazena a quantidade de lançamentos\n",
        "vezes = int(input(\"Quantas vezes deseja lançar o dado? \"))\n",
        "#Cria a lista vazia para guardar os resultados dos lançamentos\n",
        "resultados = []\n",
        "\n",
        "#PASSO 3:\n",
        "for _ in range(vezes): #Repete o bloco o número de vezes solicitado\n",
        "    resultados.append(random.randint(1, 6)) #Gera um número aleatório entre 1 e 6 (incluindo ambos)\n",
        "    #Adiciona cada resultado à lista\n",
        "\n",
        "#PASSO 4: Mostra a lista completa com todos os números sorteados\n",
        "print(\"\\nResultados:\", resultados)"
      ],
      "metadata": {
        "id": "khsqtfDs-Je-",
        "colab": {
          "base_uri": "https://localhost:8080/"
        },
        "outputId": "700705af-fa44-4b55-d10f-30687ff6bf48"
      },
      "execution_count": null,
      "outputs": [
        {
          "output_type": "stream",
          "name": "stdout",
          "text": [
            "Quantas vezes deseja lançar o dado? 4\n",
            "\n",
            "Resultados: [1, 6, 5, 1]\n"
          ]
        }
      ]
    },
    {
      "cell_type": "markdown",
      "source": [
        "**Observações**\n",
        "\n",
        "**Diferença Entre random.randint() e range()**\n",
        "\n",
        "Como o dado tem 6 faces possíveis, o código random.randint(1,6) é mais adequado, pois inclui ambos os extremos (1 e 6).\n",
        "\n",
        "Ou seja, pode retornar 1, 2, 3, 4, 5 ou 6\n",
        "\n",
        "Quando usamos o código range(a, b), inclui-se \"a\" mas exclui-se \"b\".\n",
        "\n",
        "Ou seja, range(1, 6) gera: 1, 2, 3, 4, 5\n",
        "Para ir até o 6, usa-se range(1, 7)."
      ],
      "metadata": {
        "id": "2NnH-j8H-JzF"
      }
    },
    {
      "cell_type": "markdown",
      "source": [
        "## 7. Ordenação de Lista\n",
        "\n",
        "**Enunciado**\n",
        "\n",
        "Desenvolva um programa que receba uma lista de números do\n",
        "usuário e ordene essa lista em ordem crescente. O programa deve exibir a lista\n",
        "antes e depois da ordenação."
      ],
      "metadata": {
        "id": "ml55Z1wu-myi"
      }
    },
    {
      "cell_type": "code",
      "source": [
        "#Usando método sorted()\n",
        "lista_numeros = [5, 2, 9, 1]\n",
        "lista_ordenada = sorted(lista_numeros)\n",
        "print(lista_ordenados)"
      ],
      "metadata": {
        "id": "kuuq7Z70-nMg",
        "colab": {
          "base_uri": "https://localhost:8080/"
        },
        "outputId": "e75cd670-326d-4c23-ef39-865d20dc455e"
      },
      "execution_count": null,
      "outputs": [
        {
          "output_type": "stream",
          "name": "stdout",
          "text": [
            "[1, 2, 5, 9]\n"
          ]
        }
      ]
    },
    {
      "cell_type": "markdown",
      "source": [
        "**Observações**\n",
        "\n",
        "método sorted(lista)\n",
        "* Vantagem: Mais simples e legível\n",
        "* Desvantagem: Cria uma nova lista ordenada\n",
        "\n",
        "método list.sort()\n",
        "* Vantagem: Modifica a lista original (útil para listas grandes)\n",
        "* Desvantagem: Altera a lista original\n",
        "\n",
        "**Exemplo**\n",
        "\n",
        "Usando método sort():\n",
        "\n",
        "numeros = [5, 2, 9, 1]\n",
        "\n",
        "numeros.sort()\n",
        "\n",
        "print(numeros)  # [1, 2, 5, 9]\n"
      ],
      "metadata": {
        "id": "EFxAax4b-njP"
      }
    },
    {
      "cell_type": "markdown",
      "source": [
        "## 8. Verificador de Números Primos\n",
        "\n",
        "**Enunciado**\n",
        "\n",
        "Crie um programa que determine se um número fornecido pelo\n",
        "usuário é primo. O programa deve informar se o número é primo ou não e listar\n",
        "todos os divisores do número."
      ],
      "metadata": {
        "id": "No7fMKo6-76b"
      }
    },
    {
      "cell_type": "code",
      "source": [
        "#PASSO 1: Pede um número ao usuário\n",
        "numero = int(input(\"Digite um número: \"))\n",
        "\n",
        "#PASSO 2: Lista para guardar divisores\n",
        "divisores = []\n",
        "\n",
        "#PASSO 3: Testar todos os números de 1 até 'numero'\n",
        "for i in range(1, numero + 1):\n",
        "    if numero % i == 0:  # Se a divisão for exata (resto = 0)\n",
        "        divisores.append(i)  # Guarda o divisor na lista\n",
        "\n",
        "#PASSO 4: Mostrar todos os divisores\n",
        "print(\"Divisores:\", divisores)\n",
        "\n",
        "#PASSO 5: Verificar se é primo\n",
        "if len(divisores) == 2:\n",
        "    print(f\"{numero} é primo!\")\n",
        "else:\n",
        "    print(f\"{numero} não é primo.\")"
      ],
      "metadata": {
        "id": "HenEB3OG-8Sv",
        "colab": {
          "base_uri": "https://localhost:8080/"
        },
        "outputId": "1f443f48-fb93-4211-a926-581cd8f56477"
      },
      "execution_count": null,
      "outputs": [
        {
          "output_type": "stream",
          "name": "stdout",
          "text": [
            "Digite um número: 5\n",
            "Divisores: [1, 5]\n",
            "5 é primo!\n"
          ]
        }
      ]
    },
    {
      "cell_type": "markdown",
      "source": [
        "**Observações**\n",
        "\n",
        "Número primo é todo número positivo, divisível por ele mesmo ou por 1, que não deixe resto na divisão (resto = 0).\n",
        "Se for divisível por mais que 2 números (1 e ele mesmo) não é primo.\n",
        "\n",
        "Exemplo:\n",
        "\n",
        "2 → primo (divisores: 1 e 2)\n",
        "\n",
        "5 → primo (divisores: 1 e 5)\n",
        "\n",
        "9 → não é primo (divisores: 1, 3, 9)\n",
        "\n",
        "i é o número da iteração dentro do range, que é uma sequência de números representada pelo numero_inicial até o numero_final +1, abrangendo todos os números deste intervalo para fazer a iteração.\n",
        "\n",
        "Para seguir a sintaxe do python, o range deve ser o numero_final +1, mas o cálculo só considerará o último número antes de +1, no caso o numero_final.\n",
        "\n",
        "Ou seja, o range do exercício será (1, numero_digitado +1), pois 1 e o próprio numero são os requisitos para ser número primo.\n",
        "\n",
        "% é o operador da divisão inteira, aquela que analisa se sobrou resto da divisão.\n",
        "\n",
        "Se **numero_digitado % i == 0**, quer dizer que o resto da divisão = 0, logo i é divisor de numero_digitado.\n",
        "\n",
        "Todos os divisores que deram resto zero devem ser guardados na lista vazia inicial.\n",
        "* Se a lista tiver apenas 2 divisores → número é primo.\n",
        "* Caso contrário → não é primo.\n",
        "\n",
        "método len() significa length (comprimento) e conta quantos itens tem na lista.\n",
        "\n",
        "Exemplo:\n",
        "if len(lista_divisores) == 2:\n",
        "\n",
        "Significa que a lista_divisores possui só 2 elementos.\n",
        "\n",
        "Logo apenas o 1 e o próprio numero_digitado são divisores, sendo o numero_digitado um numero primo.\n"
      ],
      "metadata": {
        "id": "52upbgLw-8pH"
      }
    },
    {
      "cell_type": "markdown",
      "source": [
        "## 9. Sistema de Login Simples\n",
        "\n",
        "**Enunciado**\n",
        "\n",
        "Implemente um sistema de login simples que armazene os nomes de\n",
        "usuário e senhas em um dicionário. O programa deve permitir que o usuário se\n",
        "cadastre e faça login, validando as credenciais inseridas."
      ],
      "metadata": {
        "id": "ZmvpiKcp_G0M"
      }
    },
    {
      "cell_type": "code",
      "source": [
        "#PASSO 1: Criar um dicionário vazio para armazenar usuários e senhas\n",
        "usuarios = {}\n",
        "\n",
        "#PASSO 2: Criar um menu de opções\n",
        "while True:\n",
        "    print(\"\\n--- Sistema de Login ---\")\n",
        "    print(\"1. Cadastrar novo usuário\")\n",
        "    print(\"2. Fazer login\")\n",
        "    print(\"3. Sair\")\n",
        "\n",
        "    opcao = input(\"Escolha uma opção (1/2/3): \")\n",
        "\n",
        "    #PASSO 3: Opção 1 - Cadastrar novo usuário\n",
        "    if opcao == \"1\":\n",
        "        usuario = input(\"Digite um nome de usuário: \")\n",
        "        senha = input(\"Digite uma senha: \")\n",
        "        usuarios[usuario] = senha\n",
        "        print(\"Cadastro realizado com sucesso!\")\n",
        "\n",
        "    #PASSO 4: Opção 2 - Fazer login\n",
        "    elif opcao == \"2\":\n",
        "        usuario = input(\"Usuário: \")\n",
        "        senha = input(\"Senha: \")\n",
        "\n",
        "        if usuario in usuarios and usuarios[usuario] == senha:\n",
        "            print(\"Login realizado com sucesso!\")\n",
        "        else:\n",
        "            print(\"Usuário ou senha incorretos!\")\n",
        "\n",
        "    #PASSO 5: Opção 3 - Sair do programa\n",
        "    elif opcao == \"3\":\n",
        "        print(\"Saindo do sistema...\")\n",
        "        break\n",
        "\n",
        "    #PASSO 6: Opção inválida\n",
        "    else:\n",
        "        print(\"Opção inválida! Digite 1, 2 ou 3.\")"
      ],
      "metadata": {
        "id": "rV8WcBYj_HJj",
        "colab": {
          "base_uri": "https://localhost:8080/"
        },
        "outputId": "6d808930-728f-4856-a2aa-37abadca4a28"
      },
      "execution_count": null,
      "outputs": [
        {
          "output_type": "stream",
          "name": "stdout",
          "text": [
            "\n",
            "--- Sistema de Login ---\n",
            "1. Cadastrar novo usuário\n",
            "2. Fazer login\n",
            "3. Sair\n",
            "Escolha uma opção (1/2/3): 1\n",
            "Digite um nome de usuário: isabela\n",
            "Digite uma senha: 1234\n",
            "Cadastro realizado com sucesso!\n",
            "\n",
            "--- Sistema de Login ---\n",
            "1. Cadastrar novo usuário\n",
            "2. Fazer login\n",
            "3. Sair\n",
            "Escolha uma opção (1/2/3): 2\n",
            "Usuário: isabela\n",
            "Senha: 1234\n",
            "Login realizado com sucesso!\n",
            "\n",
            "--- Sistema de Login ---\n",
            "1. Cadastrar novo usuário\n",
            "2. Fazer login\n",
            "3. Sair\n",
            "Escolha uma opção (1/2/3): 3\n",
            "Saindo do sistema...\n"
          ]
        }
      ]
    },
    {
      "cell_type": "markdown",
      "source": [
        "**Observações**\n",
        "\n",
        "Lista armazena apenas valor em cada posição\n",
        "\n",
        "Dicionário armazena pares chave:valor\n",
        "\n",
        "No caso, chave = usuario e valor = senha\n",
        "\n",
        "Para fazer login, o par usuario:senha deve ser guardado junto, por isso o Dicionário funciona melhor.\n",
        "\n",
        "Sempre inicia o dicionário ou a lista vazia, para depois receber valor ou chave:valor após o input.\n",
        "\n",
        "Lista\n",
        "* usuarios = [ ]             \n",
        "* usuarios = [1, 6, banana]  \n",
        "\n",
        "Dicionário\n",
        "* usuarios = { }\n",
        "* usuarios = {\"ana\": \"1234\", \"josé: \"5678\"}\n",
        "\n",
        "A estrutura de repetição **while True** exibe o menu de opções infinitamente, só para quando escolher \"Sair\", aí o **break** é acionado e interrompe o loop.\n",
        "\n",
        "**usuario** e **senha** são adicionados ao dicionário com essa estrutura:\n",
        "\n",
        "**usuarios[usuario] = senha**\n",
        "\n",
        "Através desta estrutura:\n",
        "\n",
        "**if usuario in usuarios and usuarios[usuario] == senha:**\n",
        "\n",
        "Verifica-se duas condições:\n",
        "* Se o usuário existe no dicionário (**usuario in usuarios**)\n",
        "* Se a senha corresponde (**usuarios[usuario] == senha**)\n",
        "\n"
      ],
      "metadata": {
        "id": "vEGTdpjQ_Hdh"
      }
    },
    {
      "cell_type": "markdown",
      "source": [
        "## 10. Calculadora de Fatorial\n",
        "\n",
        "**Enunciado**\n",
        "\n",
        "Escreva um programa que calcule o fatorial de um número fornecido\n",
        "pelo usuário utilizando um loop for. O programa deve exibir o resultado do fatorial\n",
        "ao final."
      ],
      "metadata": {
        "id": "kKsmpvcx_f5l"
      }
    },
    {
      "cell_type": "code",
      "source": [
        "#PASSO 1: Pedir o número ao usuário\n",
        "numero = int(input(\"Digite um número para calcular o fatorial: \"))\n",
        "\n",
        "#PASSO 2: Inicializar o resultado com 1\n",
        "fatorial = 1\n",
        "\n",
        "#PASSO 3: Calcular o fatorial usando for\n",
        "for i in range(1, numero + 1):\n",
        "    fatorial = fatorial * i\n",
        "\n",
        "#PASSO 4: Mostrar o resultado\n",
        "print(f\"O fatorial de {numero} é {fatorial}\")"
      ],
      "metadata": {
        "id": "8GUDY6V5_RUW",
        "colab": {
          "base_uri": "https://localhost:8080/"
        },
        "outputId": "cd305135-28e6-4d5e-dd08-a08f8af57616"
      },
      "execution_count": null,
      "outputs": [
        {
          "output_type": "stream",
          "name": "stdout",
          "text": [
            "Digite um número para calcular o fatorial: 5\n",
            "O fatorial de 5 é 120\n"
          ]
        }
      ]
    },
    {
      "cell_type": "markdown",
      "source": [
        "**Observações**\n",
        "\n",
        "O fatorial do numero_digitado, é o resultado da multiplicação de todos os números inteiros positivos de 1 até o numero_digitado.\n",
        "\n",
        "Fatorial é representado por !\n",
        "\n",
        "Logo, o fatorial de 5 é representado por 5!\n",
        "\n",
        "E o resultado de 5! é obtido com este cálculo:\n",
        "\n",
        "5! = 5 × 4 × 3 × 2 × 1 = 120\n",
        "\n",
        "**Explicando o código**\n",
        "\n",
        "Começamos o resultado do fatorial = 1, porque não altera o resultado da multiplicação, que começa em i=1 até i=numero_digitado do range(1, numero_digitado +1).\n",
        "\n",
        "Para cada número i na sequência do range:\n",
        "* Multiplicamos o valor atual de fatorial por i\n",
        "* Atualizamos fatorial com o novo valor\n",
        "\n",
        "**Rodando o código**\n",
        "\n",
        "Se numero_digitado = 5\n",
        "\n",
        "fatorial (resultado da multiplicação) começa em 1\n",
        "\n",
        "Loop for:\n",
        "\n",
        "**for i in range(1, numero + 1):**\n",
        "    fatorial = fatorial * i\n",
        "\n",
        "Significa **fatorial = resultado_anterior * i** do range até concluir o loop:\n",
        "\n",
        "1ª volta: 1 × 1 = 1\n",
        "\n",
        "2ª volta: 1 × 2 = 2\n",
        "\n",
        "3ª volta: 2 × 3 = 6\n",
        "\n",
        "4ª volta: 6 × 4 = 24\n",
        "\n",
        "5ª volta: 24 × 5 = 120\n",
        "\n",
        "Resposta: \"O fatorial de 5 é 120\""
      ],
      "metadata": {
        "id": "XtDROjxa_R2y"
      }
    },
    {
      "cell_type": "markdown",
      "source": [
        "## 11. Conversor de Moedas Simples\n",
        "\n",
        "**Enunciado**\n",
        "\n",
        "Crie um programa que converta um valor em reais para dólares ou\n",
        "euros. O programa deve permitir que o usuário escolha a moeda de destino e\n",
        "insira o valor a ser convertido, utilizando uma taxa de câmbio fixa definida no\n",
        "código."
      ],
      "metadata": {
        "id": "wrAEukbIAhLe"
      }
    },
    {
      "cell_type": "code",
      "source": [
        "#PASSO 1: Definir as taxas de câmbio fixas\n",
        "TAXA_DOLAR = 5.0   # 1 dólar = 5 reais\n",
        "TAXA_EURO = 5.5    # 1 euro = 5.5 reais\n",
        "\n",
        "#PASSO 2: Pedir os dados ao usuário\n",
        "print(\"Conversor de Moedas\")\n",
        "valor_reais = float(input(\"Digite o valor em reais: \"))\n",
        "print(\"Converter para Dólar ou Euro? (D/E)\")\n",
        "moeda = input(\"Digite (D) Dólar ou (E) Euro \").upper()\n",
        "\n",
        "#PASSO 3: Fazer a conversão\n",
        "if moeda == \"D\":\n",
        "    valor_convertido = valor_reais / TAXA_DOLAR\n",
        "    print(f\"R${valor_reais:.2f} = US${valor_convertido:.2f}\")\n",
        "elif moeda == \"E\":\n",
        "    valor_convertido = valor_reais / TAXA_EURO\n",
        "    print(f\"R${valor_reais:.2f} = €{valor_convertido:.2f}\")\n",
        "else:\n",
        "    print(\"Opção inválida! Digite D ou E.\")"
      ],
      "metadata": {
        "id": "flBqmUAyAhLe",
        "colab": {
          "base_uri": "https://localhost:8080/"
        },
        "outputId": "dfe87815-0995-4fd7-d655-50018bab3907"
      },
      "execution_count": null,
      "outputs": [
        {
          "output_type": "stream",
          "name": "stdout",
          "text": [
            "Conversor de Moedas\n",
            "Digite o valor em reais: 100\n",
            "Converter para Dólar ou Euro? (D/E)\n",
            "Digite (D) Dólar ou (E) Euro d\n",
            "R$100.00 = US$20.00\n"
          ]
        }
      ]
    },
    {
      "cell_type": "markdown",
      "source": [
        "**Observações**\n",
        "\n",
        "TAXA_DOLAR e TAXA_EURO são constantes, isto é, possuem valores fixos para fazer a conversão de moeda.\n",
        "\n",
        "float antes do input transforma o texto digitado em valor decimal (monetário)\n",
        "\n",
        "Método upper() transforma o texto digitado em maiúsculas\n",
        "\n",
        "Como converter:\n",
        "* valor_reais digitado / taxa_moeda constante\n",
        "* Se escolher Dólar, divide o valor pela TAXA_DOLAR\n",
        "\n",
        "**:.2f** formata o número com 2 casas decimais\n",
        "\n"
      ],
      "metadata": {
        "id": "ZwjWyPp1AhLf"
      }
    },
    {
      "cell_type": "markdown",
      "source": [
        "## 12. Contador de Palavras\n",
        "\n",
        "**Enunciado**\n",
        "\n",
        "Desenvolva um script que conte o número de palavras em uma frase\n",
        "fornecida pelo usuário. O programa deve ignorar pontuações e considerar apenas\n",
        "as palavras separadas por espaços."
      ],
      "metadata": {
        "id": "2fgozX47Am-s"
      }
    },
    {
      "cell_type": "code",
      "source": [
        "#PASSO 1: Pedir a frase ao usuário\n",
        "frase = input(\"Digite uma frase: \")\n",
        "\n",
        "#PASSO 2: Remover pontuações\n",
        "import string\n",
        "for pontuacao in string.punctuation:\n",
        "    frase = frase.replace(pontuacao, '')\n",
        "\n",
        "#PASSO 3: Dividir a frase em palavras\n",
        "palavras = frase.split()\n",
        "\n",
        "#PASSO 4: Contar as palavras\n",
        "quantidade = len(palavras)\n",
        "\n",
        "#PASSO 5: Mostrar o resultado\n",
        "print(f\"Sua frase tem {quantidade} palavras.\")"
      ],
      "metadata": {
        "id": "2AJBgA20Am-s",
        "colab": {
          "base_uri": "https://localhost:8080/"
        },
        "outputId": "04e352e0-2c1e-4568-e198-6fe3463db36d"
      },
      "execution_count": null,
      "outputs": [
        {
          "output_type": "stream",
          "name": "stdout",
          "text": [
            "Digite uma frase: Olá, mundo! Como vai você?\n",
            "Sua frase tem 5 palavras.\n"
          ]
        }
      ]
    },
    {
      "cell_type": "markdown",
      "source": [
        "**Observações**\n",
        "\n",
        "**Explicando o código**\n",
        "\n",
        "for pontuacao in string.punctuation:\n",
        "    frase = frase.replace(pontuacao, '')\n",
        "\n",
        "**string.punctuation** contém todos os sinais de pontuação (!?., etc)\n",
        "\n",
        "Para cada **pontuacao**, substituímos por nada ('')    \n",
        "\n",
        "palavras = frase.split()\n",
        "\n",
        "split() divide a frase nos espaços em branco para separar cada palavra\n",
        "\n",
        "Cria uma lista com todas as palavras\n",
        "\n",
        "quantidade = len(palavras)\n",
        "\n",
        "len() conta quantos itens tem na lista palavras\n",
        "\n",
        "**Rodando o código**\n",
        "\n",
        "frase = \"Olá, mundo! Como vai você?\"\n",
        "\n",
        "O programa remove as 3 pontuações \", ! ?\"\n",
        "\n",
        "Divide a frase por palavras: [\"Olá\", \"mundo\", \"Como\", \"vai\", \"você\"]\n",
        "\n",
        "Cada palavra é adicionada como um item da lista\n",
        "\n",
        "O método len() contou 5 itens na lista, logo 5 palavras.\n",
        "\n",
        "Resultado: \"Sua frase tem 5 palavras.\""
      ],
      "metadata": {
        "id": "_ZtkOi5lAm-t"
      }
    },
    {
      "cell_type": "markdown",
      "source": [
        "## 13. Gerador de Números Aleatórios\n",
        "\n",
        "**Enunciado**\n",
        "\n",
        "Escreva um programa que gere n números aleatórios entre um\n",
        "intervalo fornecido pelo usuário. O programa deve solicitar o valor de n e os limites\n",
        "inferior e superior do intervalo."
      ],
      "metadata": {
        "id": "6zsJoE7MA16I"
      }
    },
    {
      "cell_type": "code",
      "source": [
        "#PASSO 1: Ativa o recurso de números aleatórios do Python\n",
        "import random\n",
        "\n",
        "#PASSO 2: Pedir os números ao usuário\n",
        "quantidade = int(input(\"Quantos números deseja sortear? \"))\n",
        "minimo = int(input(\"Valor mínimo do intervalo: \"))\n",
        "maximo = int(input(\"Valor máximo do intervalo: \"))\n",
        "\n",
        "#PASSO 3: Gerar e mostrar os números\n",
        "print(\"Números sorteados:\")\n",
        "for _ in range(quantidade):\n",
        "    print(random.randint(minimo, maximo), end=\" \")"
      ],
      "metadata": {
        "id": "EcTUx0NwA16I",
        "colab": {
          "base_uri": "https://localhost:8080/"
        },
        "outputId": "45d88d0f-66e9-46a7-ebad-2d9d8aabb4e2"
      },
      "execution_count": null,
      "outputs": [
        {
          "output_type": "stream",
          "name": "stdout",
          "text": [
            "Quantos números deseja sortear? 5\n",
            "Valor mínimo do intervalo: 1\n",
            "Valor máximo do intervalo: 8\n",
            "Números sorteados:\n",
            "7 8 3 5 7 "
          ]
        }
      ]
    },
    {
      "cell_type": "markdown",
      "source": [
        "**Observações**\n",
        "\n",
        "Pede-se uma **quantidade** de números aleatórios extraídos de uma sequência de números que começa no número **minimo** e termina no número **máximo**.\n",
        "\n",
        "Para cada número aleatório \"_\" gerado o número de vezes pré-definido pela **quantidade**, use o random.randint para sortear cada número, levando em conta que deve estar entre o **minimo** e **maximo** pré-definidos pelo usuário.\n",
        "\n",
        "**Explicando o código**\n",
        "**for _ in range(quantidade):**\n",
        "\n",
        "Usa-se \"_\" como variável padrão que substitui (i) quando a etapa do loop não importa, e sim o número de repetições do loop. Ou seja:\n",
        "* i in range → mostra a etapa do loop\n",
        "* _ in range → mostra a quantidade do loop\n",
        "\n",
        "Repete o bloco abaixo pelo número de vezes que o usuário pediu.\n",
        "\n",
        "**print(random.randint(minimo, maximo), end=\" \")**\n",
        "\n",
        "random.randint(minimo, maximo) → Gera UM número aleatório no intervalo pedido\n",
        "\n",
        "end=\" \" → Faz os números aparecerem na mesma linha separados por espaço\n"
      ],
      "metadata": {
        "id": "3WKtCl96A16I"
      }
    },
    {
      "cell_type": "markdown",
      "source": [
        "## 14. Calculadora de Média Ponderada\n",
        "\n",
        "**Enunciado**\n",
        "\n",
        "Implemente uma calculadora que permita ao usuário calcular a\n",
        "média ponderada de um conjunto de notas. O usuário deve inserir as notas e os\n",
        "respectivos pesos, e o programa deve calcular e exibir a média ponderada."
      ],
      "metadata": {
        "id": "a82GaUotBBet"
      }
    },
    {
      "cell_type": "code",
      "source": [
        "#PASSO 1: Pedir as notas e pesos\n",
        "nota1 = float(input(\"Digite a 1ª nota: \"))\n",
        "peso1 = float(input(\"Digite o peso da 1ª nota: \"))\n",
        "nota2 = float(input(\"Digite a 2ª nota: \"))\n",
        "peso2 = float(input(\"Digite o peso da 2ª nota: \"))\n",
        "\n",
        "#PASSO 2: Calcular a média ponderada\n",
        "soma_notas = (nota1 * peso1) + (nota2 * peso2)\n",
        "soma_pesos = peso1 + peso2\n",
        "media = soma_notas / soma_pesos\n",
        "\n",
        "#PASSO 3: Mostrar o resultado\n",
        "print(f\"\\nA média ponderada é: {media:.2f}\")"
      ],
      "metadata": {
        "id": "cavYoczjBBet",
        "colab": {
          "base_uri": "https://localhost:8080/"
        },
        "outputId": "1daf4267-1cbb-442a-f17e-4bdf8ae300f7"
      },
      "execution_count": null,
      "outputs": [
        {
          "output_type": "stream",
          "name": "stdout",
          "text": [
            "Digite a 1ª nota: 8\n",
            "Digite o peso da 1ª nota: 1\n",
            "Digite a 2ª nota: 7\n",
            "Digite o peso da 2ª nota: 2\n",
            "\n",
            "A média ponderada é: 7.33\n"
          ]
        }
      ]
    },
    {
      "cell_type": "markdown",
      "source": [
        "**Observações**\n",
        "\n",
        "Código simples, dispensa observações."
      ],
      "metadata": {
        "id": "AF8gQKMhBBeu"
      }
    },
    {
      "cell_type": "markdown",
      "source": [
        "## 15. Cálculo de Raiz Quadrada\n",
        "\n",
        "**Enunciado**\n",
        "\n",
        "Desenvolva um programa que calcule a raiz quadrada de um número\n",
        "fornecido pelo usuário. Utilize a função sqrt() do módulo math e exiba o resultado."
      ],
      "metadata": {
        "id": "2BkXP9ndBFnu"
      }
    },
    {
      "cell_type": "code",
      "source": [
        "#PASSO 1: Importar a função sqrt do módulo math\n",
        "from math import sqrt\n",
        "\n",
        "#PASSO 2: Pedir o número ao usuário\n",
        "numero = float(input(\"Digite um número para calcular a raiz quadrada: \"))\n",
        "\n",
        "#PASSO 3: Calcular a raiz quadrada\n",
        "resultado = sqrt(numero)\n",
        "\n",
        "#PASSO 4: Mostrar o resultado\n",
        "print(f\"A raiz quadrada de {numero} é {resultado:.2f}\")"
      ],
      "metadata": {
        "id": "2pvITNaVBFnv",
        "colab": {
          "base_uri": "https://localhost:8080/"
        },
        "outputId": "4ffe2d0e-47e6-4293-a040-59ccbd2e1dd3"
      },
      "execution_count": null,
      "outputs": [
        {
          "output_type": "stream",
          "name": "stdout",
          "text": [
            "Digite um número para calcular a raiz quadrada: 9\n",
            "A raiz quadrada de 9.0 é 3.00\n"
          ]
        }
      ]
    },
    {
      "cell_type": "markdown",
      "source": [
        "**Observações**\n",
        "\n",
        "math é um módulo do Python com funções matemáticas.\n",
        "\n",
        "sqrt é a função específica para calcular raiz quadrada.\n",
        "\n",
        "Usamos from math import sqrt para pegar só essa função que precisamos."
      ],
      "metadata": {
        "id": "Ly7n4lqgBFnv"
      }
    },
    {
      "cell_type": "markdown",
      "source": [
        "## 16. Simulador de Caixa Eletrônico\n",
        "\n",
        "**Enunciado**\n",
        "\n",
        "Crie um programa que simule um caixa eletrônico. O usuário deve\n",
        "inserir o valor que deseja sacar, e o programa deve exibir quantas notas de cada\n",
        "valor serão entregues (R$100, R$50, R$20, R$10)."
      ],
      "metadata": {
        "id": "p8M3pCc0BJGD"
      }
    },
    {
      "cell_type": "code",
      "source": [
        "#PASSO 1: Pedir o valor do saque\n",
        "valor = int(input(\"Digite o valor que deseja sacar (R$): \"))\n",
        "\n",
        "#PASSO 2: Calcular notas de R$ 100\n",
        "notas100 = valor // 100            # Quantas notas de 100?\n",
        "valor = valor - notas100 * 100     # Subtrai o valor já contabilizado\n",
        "\n",
        "#PASSO 3: Calcular notas de R$ 50\n",
        "notas50 = valor // 50              # Quantas notas de 50?\n",
        "valor = valor - notas50 * 50       # Subtrai o valor já contabilizado\n",
        "\n",
        "#PASSO 4: Calcular notas de R$ 20\n",
        "notas20 = valor // 20              # Quantas notas de 20?\n",
        "valor = valor - notas20 * 20       # Subtrai o valor já contabilizado\n",
        "\n",
        "#PASSO 5: Calcular notas de R$ 10\n",
        "notas10 = valor // 10              # Quantas notas de 10?\n",
        "\n",
        "#PASSO 6: Mostrar o resultado\n",
        "print(\"\\nNotas entregues:\")\n",
        "if notas100 > 0:\n",
        "    print(f\"{notas100} nota(s) de R$ 100\")\n",
        "if notas50 > 0:\n",
        "    print(f\"{notas50} nota(s) de R$ 50\")\n",
        "if notas20 > 0:\n",
        "    print(f\"{notas20} nota(s) de R$ 20\")\n",
        "if notas10 > 0:\n",
        "    print(f\"{notas10} nota(s) de R$ 10\")"
      ],
      "metadata": {
        "id": "0jjGun44BJGD",
        "colab": {
          "base_uri": "https://localhost:8080/"
        },
        "outputId": "fabf0875-9e6a-4029-802e-dec3523c8d8d"
      },
      "execution_count": null,
      "outputs": [
        {
          "output_type": "stream",
          "name": "stdout",
          "text": [
            "Digite o valor que deseja sacar (R$): 370\n",
            "\n",
            "Notas entregues:\n",
            "3 nota(s) de R$ 100\n",
            "1 nota(s) de R$ 50\n",
            "1 nota(s) de R$ 20\n"
          ]
        }
      ]
    },
    {
      "cell_type": "markdown",
      "source": [
        "**Observações**\n",
        "\n",
        "**Explicando a Lógica**\n",
        "\n",
        "notas100 = valor // 100  \n",
        "\n",
        "\"//\" representa divisão inteira, resto fica para a próxima nota\n",
        "\n",
        "Quantas notas de 100?\n",
        "\n",
        "valor = valor - notas100 * 100\n",
        "\n",
        "valor (novo) = 370 (inicial) - 3 (notas) * 100 (valor da nota)      "
      ],
      "metadata": {
        "id": "9OxwQtzgBJGD"
      }
    },
    {
      "cell_type": "markdown",
      "source": [
        "## 17. Verificador de Ano Bissexto\n",
        "\n",
        "**Enunciado**\n",
        "\n",
        "Escreva um programa que determine se um ano fornecido pelo\n",
        "usuário é bissexto. O programa deve seguir as regras para anos bissextos\n",
        "(divisíveis por 4, exceto se divisíveis por 100, mas divisíveis por 400)."
      ],
      "metadata": {
        "id": "7Bv8K8PfBMjA"
      }
    },
    {
      "cell_type": "code",
      "source": [
        "#PASSO 1: Ano a ser analisado\n",
        "ano = int(input(\"Digite um ano: \"))\n",
        "\n",
        "#PASSO 2: Regras para verificar se é bissexto\n",
        "# Verifica se é divisível por 4\n",
        "divisivel_por_4 = ano % 4 == 0\n",
        "\n",
        "# Verifica se NÃO é divisível por 100\n",
        "nao_divisivel_por_100 = ano % 100 != 0\n",
        "\n",
        "# Verifica se é divisível por 400\n",
        "divisivel_por_400 = ano % 400 == 0\n",
        "\n",
        "#PASSO 3: Confirma se é bissexto\n",
        "if (divisivel_por_4 and nao_divisivel_por_100) or divisivel_por_400:\n",
        "    print(f\"{ano} é bissexto!\")\n",
        "else:\n",
        "    print(f\"{ano} não é bissexto.\")"
      ],
      "metadata": {
        "id": "Tu28FPczBMjA",
        "colab": {
          "base_uri": "https://localhost:8080/"
        },
        "outputId": "1961ed44-e09c-4e4d-b3b0-06d159a3ea82"
      },
      "execution_count": null,
      "outputs": [
        {
          "output_type": "stream",
          "name": "stdout",
          "text": [
            "Digite um ano: 2024\n",
            "2024 é bissexto!\n"
          ]
        }
      ]
    },
    {
      "cell_type": "markdown",
      "source": [
        "**Observações**\n",
        "\n",
        "**Recomendação para ver se é Ano Bissexto**\n",
        "\n",
        "Não use ano % 4 == 0 and ano % 400 == 0 → Isso excluiria anos como 2024.\n",
        "\n",
        "Use (ano % 4 == 0 and ano % 100 != 0) or (ano % 400 == 0) → Cobre todos os casos corretamente!\n",
        "\n",
        "**Teste com anos conhecidos**\n",
        "\n",
        "Anos bissextos: 2024, 2000, 2016\n",
        "Anos não bissextos: 2023, 1900, 2100"
      ],
      "metadata": {
        "id": "vJHV63AXBMjA"
      }
    },
    {
      "cell_type": "markdown",
      "source": [
        "## 18. Gerenciador de Contatos Simples\n",
        "\n",
        "**Enunciado**\n",
        "\n",
        "Desenvolva um sistema simples para gerenciar contatos, onde o\n",
        "usuário pode adicionar, remover e listar contatos (nome e telefone). Utilize um\n",
        "dicionário para armazenar os contatos."
      ],
      "metadata": {
        "id": "9yHnFgYhBRxP"
      }
    },
    {
      "cell_type": "code",
      "source": [
        "#PASSO 1: Criar um dicionário vazio para armazenar os contatos\n",
        "contatos = {}\n",
        "\n",
        "#PASSO 2: Criar um menu de opções\n",
        "while True:\n",
        "    print(\"\\n--- MENU DE CONTATOS ---\")\n",
        "    print(\"1. Adicionar contato\")\n",
        "    print(\"2. Remover contato\")\n",
        "    print(\"3. Listar contatos\")\n",
        "    print(\"4. Sair\")\n",
        "\n",
        "    opcao = input(\"Escolha uma opção (1/2/3/4): \")\n",
        "\n",
        "    #PASSO 3: Adicionar contato\n",
        "    if opcao == \"1\":\n",
        "        nome = input(\"Nome do contato: \")\n",
        "        telefone = input(\"Telefone: \")\n",
        "        contatos[nome] = telefone\n",
        "        print(f\"Contato '{nome}' adicionado!\")\n",
        "\n",
        "    #PASSO 4: Remover contato\n",
        "    elif opcao == \"2\":\n",
        "        nome = input(\"Nome do contato a remover: \")\n",
        "        if nome in contatos:\n",
        "            del contatos[nome] # del é a instrução que remove o contato do dicionário\n",
        "            print(f\"Contato '{nome}' removido!\")\n",
        "        else:\n",
        "            print(f\"Contato '{nome}' não encontrado.\")\n",
        "\n",
        "    #PASSO 5: Listar contatos\n",
        "    elif opcao == \"3\":\n",
        "        print(\"\\n--- LISTA DE CONTATOS ---\")\n",
        "        for nome, telefone in contatos.items():\n",
        "            print(f\"{nome}: {telefone}\")\n",
        "\n",
        "    #PASSO 6: Sair do programa\n",
        "    elif opcao == \"4\":\n",
        "        print(\"Saindo... Até logo!\")\n",
        "        break # sempre na opção Sair\n",
        "\n",
        "    #PASSO 7: Opção inválida\n",
        "    else:\n",
        "        print(\"Opção inválida! Digite 1, 2, 3 ou 4.\")"
      ],
      "metadata": {
        "id": "teFLzC9nBRxP",
        "colab": {
          "base_uri": "https://localhost:8080/"
        },
        "outputId": "9cfa7ed2-6844-414f-88f3-3496c22d90e7"
      },
      "execution_count": null,
      "outputs": [
        {
          "output_type": "stream",
          "name": "stdout",
          "text": [
            "\n",
            "--- MENU DE CONTATOS ---\n",
            "1. Adicionar contato\n",
            "2. Remover contato\n",
            "3. Listar contatos\n",
            "4. Sair\n",
            "Escolha uma opção (1/2/3/4): 1\n",
            "Nome do contato: isabela\n",
            "Telefone: 11 99999-9999\n",
            "Contato 'isabela' adicionado!\n",
            "\n",
            "--- MENU DE CONTATOS ---\n",
            "1. Adicionar contato\n",
            "2. Remover contato\n",
            "3. Listar contatos\n",
            "4. Sair\n",
            "Escolha uma opção (1/2/3/4): 1\n",
            "Nome do contato: roberto\n",
            "Telefone: 11 88888-8888\n",
            "Contato 'roberto' adicionado!\n",
            "\n",
            "--- MENU DE CONTATOS ---\n",
            "1. Adicionar contato\n",
            "2. Remover contato\n",
            "3. Listar contatos\n",
            "4. Sair\n",
            "Escolha uma opção (1/2/3/4): 3\n",
            "\n",
            "--- LISTA DE CONTATOS ---\n",
            "isabela: 11 99999-9999\n",
            "roberto: 11 88888-8888\n",
            "\n",
            "--- MENU DE CONTATOS ---\n",
            "1. Adicionar contato\n",
            "2. Remover contato\n",
            "3. Listar contatos\n",
            "4. Sair\n",
            "Escolha uma opção (1/2/3/4): 2\n",
            "Nome do contato a remover: roberto\n",
            "Contato 'roberto' removido!\n",
            "\n",
            "--- MENU DE CONTATOS ---\n",
            "1. Adicionar contato\n",
            "2. Remover contato\n",
            "3. Listar contatos\n",
            "4. Sair\n",
            "Escolha uma opção (1/2/3/4): 3\n",
            "\n",
            "--- LISTA DE CONTATOS ---\n",
            "isabela: 11 99999-9999\n",
            "\n",
            "--- MENU DE CONTATOS ---\n",
            "1. Adicionar contato\n",
            "2. Remover contato\n",
            "3. Listar contatos\n",
            "4. Sair\n",
            "Escolha uma opção (1/2/3/4): 4\n",
            "Saindo... Até logo!\n"
          ]
        }
      ]
    },
    {
      "cell_type": "markdown",
      "source": [
        "**Observações**\n",
        "\n",
        "Um dicionário ({}) armazena pares nome: telefone.\n",
        "\n",
        "Exemplo: {\"João\": \"9999-8888\", \"Maria\": \"7777-6666\"}.\n",
        "\n",
        "O while True exibe um menu com 4 opções, e mantém o programa rodando até o usuário escolher Sair (4), e o break ser acionado.\n",
        "\n",
        "break encerra o loop while True.\n",
        "\n",
        "**Adicionar contato:**\n",
        "\n",
        "Pede nome e telefone.\n",
        "\n",
        "Adiciona ao dicionário: contatos[nome] = telefone.\n",
        "\n",
        "**Remover contato:**\n",
        "\n",
        "Verifica se o contato existe (if nome in contatos).\n",
        "\n",
        "Se existir, remove com del contatos[nome].\n",
        "\n",
        "**Listar contatos**\n",
        "\n",
        "contatos.items() retorna todos os nomes e telefones.\n",
        "\n",
        "O for percorre e exibe cada contato."
      ],
      "metadata": {
        "id": "JAuHO4dpBRxP"
      }
    },
    {
      "cell_type": "markdown",
      "source": [
        "## 19. Calculadora de Desconto\n",
        "\n",
        "**Enunciado**\n",
        "\n",
        "Crie um programa que calcule o preço final de um produto após a\n",
        "aplicação de um desconto. O usuário deve inserir o preço original e a\n",
        "porcentagem de desconto, e o programa deve exibir o preço final."
      ],
      "metadata": {
        "id": "9EaSZfX_BWQk"
      }
    },
    {
      "cell_type": "code",
      "source": [
        "#PASSO 1: Pedir o preço e o desconto ao usuário\n",
        "preco_original = float(input(\"Digite o preço original do produto: R$ \"))\n",
        "porcentagem_desconto = float(input(\"Digite a porcentagem de desconto (%): \"))\n",
        "\n",
        "#PASSO 2: Calcular o valor do desconto e o preço final\n",
        "valor_desconto = preco_original * (porcentagem_desconto / 100)\n",
        "preco_final = preco_original - valor_desconto\n",
        "\n",
        "#PASSO 3: Mostrar o resultado\n",
        "print(f\"\\nPreço original: R$ {preco_original:.2f}\")\n",
        "print(f\"Desconto ({porcentagem_desconto}%): R$ {valor_desconto:.2f}\")\n",
        "print(f\"Preço final: R$ {preco_final:.2f}\")"
      ],
      "metadata": {
        "id": "9BSgoF8yBWQk",
        "colab": {
          "base_uri": "https://localhost:8080/"
        },
        "outputId": "f3a03f6d-74d9-435c-ff61-c538b5942773"
      },
      "execution_count": null,
      "outputs": [
        {
          "output_type": "stream",
          "name": "stdout",
          "text": [
            "Digite o preço original do produto: R$ 100\n",
            "Digite a porcentagem de desconto (%): 15\n",
            "\n",
            "Preço original: R$ 100.00\n",
            "Desconto (15.0%): R$ 15.00\n",
            "Preço final: R$ 85.00\n"
          ]
        }
      ]
    },
    {
      "cell_type": "markdown",
      "source": [
        "**Observações**\n",
        "\n",
        "**PASSO 2**\n",
        "\n",
        "valor_desconto = preco_original * (porcentagem_desconto / 100)\n",
        "\n",
        "preco_final = preco_original - valor_desconto\n",
        "\n",
        "**Explicando o Código**\n",
        "\n",
        "(porcentagem_desconto / 100)\n",
        "\n",
        "Transforma a porcentagem em decimal (ex: 20% vira 0.20).\n",
        "\n",
        "preco_original * (% em decimal)\n",
        "\n",
        "Calcula o valor do desconto em reais.\n",
        "\n",
        "preco_final: Subtrai o desconto do preço original."
      ],
      "metadata": {
        "id": "N2WZ4szGBWQk"
      }
    },
    {
      "cell_type": "markdown",
      "source": [
        "## 20. Análise de Dados Simples com Pandas e Matplotlib\n",
        "\n",
        "**Enunciado**\n",
        "\n",
        "Utilize o Pandas para carregar um dataset simples, como o conjunto\n",
        "de dados do Titanic ou Iris, disponível na biblioteca seaborn. Realize uma análise\n",
        "básica para calcular estatísticas descritivas, como média e mediana de colunas\n",
        "numéricas. Em seguida, utilize o Matplotlib para criar gráficos simples (como\n",
        "histogramas ou gráficos de barras) que visualizem algumas dessas estatísticas ou\n",
        "distribuições."
      ],
      "metadata": {
        "id": "dZHlXIzpBZlV"
      }
    },
    {
      "cell_type": "code",
      "source": [
        "#PASSO 1: Importar as bibliotecas\n",
        "import pandas as pd\n",
        "import seaborn as sns\n",
        "import matplotlib.pyplot as plt\n",
        "\n",
        "#PASSO 2: Carregar o dataset Titanic\n",
        "titanic = sns.load_dataset('titanic')\n",
        "\n",
        "#PASSO 3: Análise descritiva básica\n",
        "print(\"\\n--- Primeiras 5 linhas do dataset ---\")\n",
        "print(titanic.head())\n",
        "\n",
        "print(\"\\n--- Estatísticas descritivas das colunas numéricas ---\")\n",
        "print(titanic.describe())\n",
        "\n",
        "print(\"\\n--- Contagem de passageiros por classe ---\")\n",
        "print(titanic['class'].value_counts())\n",
        "\n",
        "#PASSO 4: Gráficos\n",
        "#Gráfico 1: Histograma das idades\n",
        "plt.figure(figsize=(10, 5))\n",
        "plt.subplot(1, 2, 1)  # Cria uma grade de gráficos (1 linha, 2 colunas, posição 1)\n",
        "sns.histplot(data=titanic, x='age', bins=20, kde=True, color='blue')\n",
        "plt.title('Distribuição de Idades')\n",
        "plt.xlabel('Idade')\n",
        "plt.ylabel('Contagem')\n",
        "\n",
        "#Gráfico 2: Sobreviventes por classe\n",
        "plt.subplot(1, 2, 2)  # Posição 2 na grade\n",
        "sns.countplot(data=titanic, x='class', hue='survived', palette='pastel')\n",
        "plt.title('Sobreviventes por Classe')\n",
        "plt.xlabel('Classe')\n",
        "plt.ylabel('Contagem')\n",
        "plt.legend(['Não sobreviveu', 'Sobreviveu'])\n",
        "\n",
        "plt.tight_layout()  # Ajusta o espaçamento entre gráficos\n",
        "plt.show()\n",
        "\n",
        "#Gráfico 3: Boxplot de tarifas por classe\n",
        "plt.figure(figsize=(8, 5))\n",
        "sns.boxplot(data=titanic, x='class', y='fare', palette='Set2')\n",
        "plt.title('Distribuição de Tarifas por Classe')\n",
        "plt.xlabel('Classe')\n",
        "plt.ylabel('Tarifa (US$)')\n",
        "plt.show()"
      ],
      "metadata": {
        "id": "L3WEvuYoBZlV",
        "colab": {
          "base_uri": "https://localhost:8080/",
          "height": 1000
        },
        "outputId": "f5cd4185-29e3-4ef4-aeab-cf582dd0769f"
      },
      "execution_count": null,
      "outputs": [
        {
          "output_type": "stream",
          "name": "stdout",
          "text": [
            "\n",
            "--- Primeiras 5 linhas do dataset ---\n",
            "   survived  pclass     sex   age  sibsp  parch     fare embarked  class  \\\n",
            "0         0       3    male  22.0      1      0   7.2500        S  Third   \n",
            "1         1       1  female  38.0      1      0  71.2833        C  First   \n",
            "2         1       3  female  26.0      0      0   7.9250        S  Third   \n",
            "3         1       1  female  35.0      1      0  53.1000        S  First   \n",
            "4         0       3    male  35.0      0      0   8.0500        S  Third   \n",
            "\n",
            "     who  adult_male deck  embark_town alive  alone  \n",
            "0    man        True  NaN  Southampton    no  False  \n",
            "1  woman       False    C    Cherbourg   yes  False  \n",
            "2  woman       False  NaN  Southampton   yes   True  \n",
            "3  woman       False    C  Southampton   yes  False  \n",
            "4    man        True  NaN  Southampton    no   True  \n",
            "\n",
            "--- Estatísticas descritivas das colunas numéricas ---\n",
            "         survived      pclass         age       sibsp       parch        fare\n",
            "count  891.000000  891.000000  714.000000  891.000000  891.000000  891.000000\n",
            "mean     0.383838    2.308642   29.699118    0.523008    0.381594   32.204208\n",
            "std      0.486592    0.836071   14.526497    1.102743    0.806057   49.693429\n",
            "min      0.000000    1.000000    0.420000    0.000000    0.000000    0.000000\n",
            "25%      0.000000    2.000000   20.125000    0.000000    0.000000    7.910400\n",
            "50%      0.000000    3.000000   28.000000    0.000000    0.000000   14.454200\n",
            "75%      1.000000    3.000000   38.000000    1.000000    0.000000   31.000000\n",
            "max      1.000000    3.000000   80.000000    8.000000    6.000000  512.329200\n",
            "\n",
            "--- Contagem de passageiros por classe ---\n",
            "class\n",
            "Third     491\n",
            "First     216\n",
            "Second    184\n",
            "Name: count, dtype: int64\n"
          ]
        },
        {
          "output_type": "display_data",
          "data": {
            "text/plain": [
              "<Figure size 1000x500 with 2 Axes>"
            ],
            "image/png": "[encoded data removed]"
          },
          "metadata": {}
        },
        {
          "output_type": "stream",
          "name": "stderr",
          "text": [
            "/tmp/ipython-input-867086121.py:41: FutureWarning: \n",
            "\n",
            "Passing `palette` without assigning `hue` is deprecated and will be removed in v0.14.0. Assign the `x` variable to `hue` and set `legend=False` for the same effect.\n",
            "\n",
            "  sns.boxplot(data=titanic, x='class', y='fare', palette='Set2')\n"
          ]
        },
        {
          "output_type": "display_data",
          "data": {
            "text/plain": [
              "<Figure size 800x500 with 1 Axes>"
            ],
            "image/png": "[encoded data removed]"
          },
          "metadata": {}
        }
      ]
    },
    {
      "cell_type": "markdown",
      "source": [
        "**Observações**\n",
        "\n",
        "**Passo 1: Importar bibliotecas**\n",
        "* pandas: Para análise de dados.\n",
        "* seaborn: Contém o dataset Titanic e funções para gráficos.\n",
        "* matplotlib.pyplot: Para personalizar gráficos.\n",
        "\n",
        "**Passo 2: Carregar o dataset**\n",
        "\n",
        "* titanic = sns.load_dataset('titanic')\n",
        "\n",
        "O dataset Titanic contém informações sobre passageiros (idade, classe, tarifa, sobrevivência, etc.).\n",
        "\n",
        "**Passo 3: Análise descritiva**\n",
        "* titanic.head(): Mostra as primeiras 5 linhas.\n",
        "\n",
        "* titanic.describe(): Calcula média, mediana, desvio padrão, etc., para colunas numéricas.\n",
        "\n",
        "* titanic['class'].value_counts(): Conta quantos passageiros há em cada classe (1ª, 2ª, 3ª).\n",
        "\n",
        "**Passo 4: Gráficos**\n",
        "* Histograma das idades:\n",
        "\n",
        "Mostra a distribuição das idades dos passageiros.\n",
        "\n",
        "kde=True adiciona uma linha de densidade.\n",
        "\n",
        "* Sobreviventes por classe:\n",
        "\n",
        "Gráfico de barras mostrando quantos sobreviveram/não sobreviveram em cada classe.\n",
        "\n",
        "hue='survived' separa por sobrevivência (0 = não, 1 = sim).\n",
        "\n",
        "* Boxplot de tarifas por classe:\n",
        "\n",
        "Mostra a distribuição dos preços das passagens (tarifas) em cada classe.\n",
        "\n",
        "Identifica outliers (valores extremos)."
      ],
      "metadata": {
        "id": "HSlVF9dGBZlW"
      }
    }
  ]
}
